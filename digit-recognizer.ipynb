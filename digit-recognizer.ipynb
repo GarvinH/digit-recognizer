{
 "cells": [
  {
   "cell_type": "code",
   "execution_count": 18,
   "id": "0c057bef-5cde-45e9-acc0-47176f0f4f5f",
   "metadata": {},
   "outputs": [],
   "source": [
    "import pandas\n",
    "import tensorflow as tf\n",
    "from tensorflow.keras import layers\n",
    "import numpy as np\n",
    "import matplotlib.pyplot as plt\n",
    "import random"
   ]
  },
  {
   "cell_type": "code",
   "execution_count": 2,
   "id": "83e0e5b1-51ed-4239-9cdb-fb5b6c55cc18",
   "metadata": {},
   "outputs": [],
   "source": [
    "training_data = pandas.read_csv(\"train.csv\")"
   ]
  },
  {
   "cell_type": "code",
   "execution_count": 182,
   "id": "e3a65fd6-7f66-436e-a20d-1ad0ac9bf330",
   "metadata": {},
   "outputs": [
    {
     "name": "stdout",
     "output_type": "stream",
     "text": [
      "[[1 0 0 ... 0 0 0]\n",
      " [0 0 0 ... 0 0 0]\n",
      " [1 0 0 ... 0 0 0]\n",
      " ...\n",
      " [7 0 0 ... 0 0 0]\n",
      " [6 0 0 ... 0 0 0]\n",
      " [9 0 0 ... 0 0 0]] (42000, 785)\n"
     ]
    }
   ],
   "source": [
    "print(training_data, training_data.shape)"
   ]
  },
  {
   "cell_type": "code",
   "execution_count": 4,
   "id": "8185f951-4324-42ee-a693-c3dfdd44623f",
   "metadata": {},
   "outputs": [],
   "source": [
    "training_data = training_data.values\n",
    "\n",
    "x_train = training_data[:, 1:]\n",
    "y_train = training_data[:, 0]"
   ]
  },
  {
   "cell_type": "code",
   "execution_count": 5,
   "id": "6f35af9a-4ab7-498b-af88-84455c77a404",
   "metadata": {},
   "outputs": [
    {
     "data": {
      "text/plain": [
       "<matplotlib.image.AxesImage at 0x7fd151d7a1c0>"
      ]
     },
     "execution_count": 5,
     "metadata": {},
     "output_type": "execute_result"
    },
    {
     "data": {
      "image/png": "[encoded data removed]",
      "text/plain": [
       "<Figure size 432x288 with 1 Axes>"
      ]
     },
     "metadata": {
      "needs_background": "light"
     },
     "output_type": "display_data"
    }
   ],
   "source": [
    "plt.imshow(x_train[0].reshape(28,28))"
   ]
  },
  {
   "cell_type": "code",
   "execution_count": 173,
   "id": "86927adf-a5cc-4132-822e-1e2dd40b9171",
   "metadata": {},
   "outputs": [],
   "source": [
    "model = tf.keras.Sequential([\n",
    "    layers.Dense(150, activation=\"relu\", input_dim=784),\n",
    "    layers.Dense(100, activation=\"relu\"),\n",
    "    layers.Dense(10, activation=\"softmax\")\n",
    "])"
   ]
  },
  {
   "cell_type": "code",
   "execution_count": 174,
   "id": "a09dc16a-1dbd-42ca-9c34-0452b6996b9c",
   "metadata": {},
   "outputs": [],
   "source": [
    "model.compile(optimizer=\"adam\", loss=tf.keras.losses.SparseCategoricalCrossentropy(), metrics=[\"accuracy\"])"
   ]
  },
  {
   "cell_type": "code",
   "execution_count": 175,
   "id": "5937e82f-23f1-4060-b793-c07ecef8b058",
   "metadata": {},
   "outputs": [
    {
     "name": "stdout",
     "output_type": "stream",
     "text": [
      "Epoch 1/10\n",
      "1313/1313 [==============================] - 3s 2ms/step - loss: 2.1423 - accuracy: 0.8671\n",
      "Epoch 2/10\n",
      "1313/1313 [==============================] - 3s 2ms/step - loss: 0.4165 - accuracy: 0.9256\n",
      "Epoch 3/10\n",
      "1313/1313 [==============================] - 3s 2ms/step - loss: 0.2473 - accuracy: 0.9407\n",
      "Epoch 4/10\n",
      "1313/1313 [==============================] - 3s 2ms/step - loss: 0.1883 - accuracy: 0.9509\n",
      "Epoch 5/10\n",
      "1313/1313 [==============================] - 3s 2ms/step - loss: 0.1571 - accuracy: 0.9566\n",
      "Epoch 6/10\n",
      "1313/1313 [==============================] - 3s 2ms/step - loss: 0.1385 - accuracy: 0.9606\n",
      "Epoch 7/10\n",
      "1313/1313 [==============================] - 3s 2ms/step - loss: 0.1254 - accuracy: 0.9643\n",
      "Epoch 8/10\n",
      "1313/1313 [==============================] - 3s 2ms/step - loss: 0.1036 - accuracy: 0.9697\n",
      "Epoch 9/10\n",
      "1313/1313 [==============================] - 3s 2ms/step - loss: 0.1015 - accuracy: 0.9705\n",
      "Epoch 10/10\n",
      "1313/1313 [==============================] - 3s 2ms/step - loss: 0.0934 - accuracy: 0.9747\n"
     ]
    },
    {
     "data": {
      "text/plain": [
       "<tensorflow.python.keras.callbacks.History at 0x7fd0e1953f10>"
      ]
     },
     "execution_count": 175,
     "metadata": {},
     "output_type": "execute_result"
    }
   ],
   "source": [
    "model.fit(x_train, y_train, epochs=10)"
   ]
  },
  {
   "cell_type": "code",
   "execution_count": 176,
   "id": "ededd82a-9377-4644-ab0f-b5ee67e5ad6f",
   "metadata": {},
   "outputs": [
    {
     "name": "stdout",
     "output_type": "stream",
     "text": [
      "(784,)\n"
     ]
    }
   ],
   "source": [
    "test_data = pandas.read_csv(\"test.csv\")\n",
    "\n",
    "x_test = test_data.values\n",
    "\n",
    "print(x_test[0].shape)"
   ]
  },
  {
   "cell_type": "code",
   "execution_count": 194,
   "id": "151dad5b-33f0-4966-9101-45ea2bd75b66",
   "metadata": {},
   "outputs": [
    {
     "name": "stdout",
     "output_type": "stream",
     "text": [
      "Prediction:  7\n"
     ]
    },
    {
     "data": {
      "text/plain": [
       "<matplotlib.image.AxesImage at 0x7fd0e03f05e0>"
      ]
     },
     "execution_count": 194,
     "metadata": {},
     "output_type": "execute_result"
    },
    {
     "data": {
      "image/png": "[encoded data removed]",
      "text/plain": [
       "<Figure size 432x288 with 1 Axes>"
      ]
     },
     "metadata": {
      "needs_background": "light"
     },
     "output_type": "display_data"
    }
   ],
   "source": [
    "random_index = random.randint(0, test_data.shape[0]-1)\n",
    "\n",
    "print(\"Prediction: \", np.argmax(model.predict(np.array([x_test[random_index]]))))\n",
    "plt.imshow(x_test[random_index].reshape(28,28))"
   ]
  },
  {
   "cell_type": "code",
   "execution_count": 178,
   "id": "288ac827-5f06-4943-8ac8-876f225b4203",
   "metadata": {},
   "outputs": [],
   "source": [
    "predictions = np.argmax(model.predict(x_test), axis=1)"
   ]
  },
  {
   "cell_type": "code",
   "execution_count": 179,
   "id": "4a0df0a7-1347-4a9d-926b-13e47e442e88",
   "metadata": {},
   "outputs": [],
   "source": [
    "df = pandas.DataFrame(data=predictions)\n",
    "df.index.name = \"ImageId\"\n",
    "df.index += 1\n",
    "df.to_csv(\"test_predictions.csv\", header=[\"Label\"], index=True)"
   ]
  },
  {
   "attachments": {
    "32af6605-0f2b-4ed7-ba31-babeb9b516c3.png": {
     "image/png": "[encoded data removed]"
    }
   },
   "cell_type": "markdown",
   "id": "7cbfa0b4-7e70-4f4b-9f94-bac842c65e49",
   "metadata": {},
   "source": [
    "96% Accuracy! Not bad.\n",
    "\n",
    "![image.png](attachment:32af6605-0f2b-4ed7-ba31-babeb9b516c3.png)"
   ]
  },
  {
   "cell_type": "code",
   "execution_count": null,
   "id": "1104f0d3-67b8-4e5a-90ca-0bc2251b9b8b",
   "metadata": {},
   "outputs": [],
   "source": []
  }
 ],
 "metadata": {
  "kernelspec": {
   "display_name": "Python 3",
   "language": "python",
   "name": "python3"
  },
  "language_info": {
   "codemirror_mode": {
    "name": "ipython",
    "version": 3
   },
   "file_extension": ".py",
   "mimetype": "text/x-python",
   "name": "python",
   "nbconvert_exporter": "python",
   "pygments_lexer": "ipython3",
   "version": "3.9.4"
  }
 },
 "nbformat": 4,
 "nbformat_minor": 5
}
